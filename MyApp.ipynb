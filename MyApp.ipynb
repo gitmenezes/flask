{
 "cells": [
  {
   "cell_type": "markdown",
   "id": "e8e154be",
   "metadata": {},
   "source": [
    "# Aplicação básica com Flask\n",
    ">>Versao do código 1.0.0 - 18/08/2021\n",
    ">>>Autor:Alexandre Menezes Ferreira\n",
    "---\n",
    "##### User Guide\n",
    ">##### [Flask](https://flask.palletsprojects.com/en/2.0.x/#user-s-guide)\n",
    ">##### [Pandas](https://pandas.pydata.org/pandas-docs/stable/user_guide/index.html#user-guide)\n",
    "\n",
    "### Instalação do Flask\n",
    ">pip install Flask\n",
    "\n",
    "### Objetivo(Realizar consultas via 'PUT' no servidor\n",
    ">##### Criar um DataFrame (Alunos,Notas,Status(Aprovado,Reprovado), index(1-5))\n",
    ">##### Converter os dados em JSON\n",
    ">##### Retornar Consulta do usuário através do índice informado"
   ]
  },
  {
   "cell_type": "code",
   "execution_count": 134,
   "id": "4f42a93d",
   "metadata": {},
   "outputs": [],
   "source": [
    "#Importar a biblioteca Flask com renderizador, request e json\n",
    "from flask import Flask, render_template as rt, request \n",
    "import json"
   ]
  },
  {
   "cell_type": "code",
   "execution_count": 135,
   "id": "de36d3d9",
   "metadata": {},
   "outputs": [],
   "source": [
    "#Importar a biblioteca pandas para criar o DataFrame\n",
    "import pandas as pd"
   ]
  },
  {
   "cell_type": "code",
   "execution_count": 136,
   "id": "c813be2b",
   "metadata": {},
   "outputs": [],
   "source": [
    "#Construção do DataFrame\n",
    "df = pd.DataFrame({'Alunos':['Alexandre Menezes','Joao da Silva','Mariana Davila','Sebastiana florencio','Daniela Lopes'],'Notas':[7.0,6.1,8.2,9.9,10.0],'Status':['Aprovado','Reprovado','Aprovado','Aprovado','Aprovado']}, index = [1,2,3,4,5])"
   ]
  },
  {
   "cell_type": "code",
   "execution_count": 137,
   "id": "f86ed9b4",
   "metadata": {},
   "outputs": [
    {
     "data": {
      "text/html": [
       "<div>\n",
       "<style scoped>\n",
       "    .dataframe tbody tr th:only-of-type {\n",
       "        vertical-align: middle;\n",
       "    }\n",
       "\n",
       "    .dataframe tbody tr th {\n",
       "        vertical-align: top;\n",
       "    }\n",
       "\n",
       "    .dataframe thead th {\n",
       "        text-align: right;\n",
       "    }\n",
       "</style>\n",
       "<table border=\"1\" class=\"dataframe\">\n",
       "  <thead>\n",
       "    <tr style=\"text-align: right;\">\n",
       "      <th></th>\n",
       "      <th>Alunos</th>\n",
       "      <th>Notas</th>\n",
       "      <th>Status</th>\n",
       "    </tr>\n",
       "  </thead>\n",
       "  <tbody>\n",
       "    <tr>\n",
       "      <th>1</th>\n",
       "      <td>Alexandre Menezes</td>\n",
       "      <td>7.0</td>\n",
       "      <td>Aprovado</td>\n",
       "    </tr>\n",
       "    <tr>\n",
       "      <th>2</th>\n",
       "      <td>Joao da Silva</td>\n",
       "      <td>6.1</td>\n",
       "      <td>Reprovado</td>\n",
       "    </tr>\n",
       "    <tr>\n",
       "      <th>3</th>\n",
       "      <td>Mariana Davila</td>\n",
       "      <td>8.2</td>\n",
       "      <td>Aprovado</td>\n",
       "    </tr>\n",
       "    <tr>\n",
       "      <th>4</th>\n",
       "      <td>Sebastiana florencio</td>\n",
       "      <td>9.9</td>\n",
       "      <td>Aprovado</td>\n",
       "    </tr>\n",
       "    <tr>\n",
       "      <th>5</th>\n",
       "      <td>Daniela Lopes</td>\n",
       "      <td>10.0</td>\n",
       "      <td>Aprovado</td>\n",
       "    </tr>\n",
       "  </tbody>\n",
       "</table>\n",
       "</div>"
      ],
      "text/plain": [
       "                 Alunos  Notas     Status\n",
       "1     Alexandre Menezes    7.0   Aprovado\n",
       "2         Joao da Silva    6.1  Reprovado\n",
       "3        Mariana Davila    8.2   Aprovado\n",
       "4  Sebastiana florencio    9.9   Aprovado\n",
       "5         Daniela Lopes   10.0   Aprovado"
      ]
     },
     "execution_count": 137,
     "metadata": {},
     "output_type": "execute_result"
    }
   ],
   "source": [
    "# Amostra dos Dados\n",
    "df"
   ]
  },
  {
   "cell_type": "markdown",
   "id": "dbe22140",
   "metadata": {},
   "source": [
    "##### Contruindo a Aplicação"
   ]
  },
  {
   "cell_type": "code",
   "execution_count": 141,
   "id": "e760469b",
   "metadata": {
    "scrolled": true
   },
   "outputs": [
    {
     "name": "stdout",
     "output_type": "stream",
     "text": [
      " * Serving Flask app \"__main__\" (lazy loading)\n",
      " * Environment: production\n",
      "   WARNING: This is a development server. Do not use it in a production deployment.\n",
      "   Use a production WSGI server instead.\n",
      " * Debug mode: off\n"
     ]
    },
    {
     "name": "stderr",
     "output_type": "stream",
     "text": [
      " * Running on http://127.0.0.1:5000/ (Press CTRL+C to quit)\n",
      "127.0.0.1 - - [18/Aug/2021 17:56:52] \"\u001b[33mPUT /id/ HTTP/1.1\u001b[0m\" 404 -\n",
      "127.0.0.1 - - [18/Aug/2021 17:56:58] \"\u001b[37mPUT /id HTTP/1.1\u001b[0m\" 200 -\n"
     ]
    }
   ],
   "source": [
    "app = Flask(__name__)\n",
    "application = app\n",
    "x = 0\n",
    "# Página Inicial\n",
    "@app.route('/')\n",
    "def index():\n",
    "    return '<h1>Página Inicial</h1>'\n",
    "\n",
    "\n",
    "# Página de Retorno de dados por index\n",
    "@app.route('/id', methods=['PUT','GET'])\n",
    "def ids():\n",
    "    response = request.data\n",
    "    dados = df[['Alunos','Status']].iloc[int(response)-1].to_json() #Converte os dados do DataFrame para Json\n",
    "    return dados\n",
    "if __name__ == '__main__':\n",
    "    app.run(debug = 0)"
   ]
  },
  {
   "cell_type": "code",
   "execution_count": null,
   "id": "bf884de5",
   "metadata": {},
   "outputs": [],
   "source": []
  }
 ],
 "metadata": {
  "kernelspec": {
   "display_name": "Python 3",
   "language": "python",
   "name": "python3"
  },
  "language_info": {
   "codemirror_mode": {
    "name": "ipython",
    "version": 3
   },
   "file_extension": ".py",
   "mimetype": "text/x-python",
   "name": "python",
   "nbconvert_exporter": "python",
   "pygments_lexer": "ipython3",
   "version": "3.8.8"
  }
 },
 "nbformat": 4,
 "nbformat_minor": 5
}
